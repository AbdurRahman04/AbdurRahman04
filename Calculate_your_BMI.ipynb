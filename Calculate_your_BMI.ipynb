{
 "cells": [
  {
   "cell_type": "markdown",
   "id": "7d9ac4bf",
   "metadata": {},
   "source": [
    "# Calculate the body mass index(BMI)\n",
    "### input weight \n",
    "### input hight\n",
    "### BMI (ask your self to give your hieght and weight nmean to make a program that user friendly)\n",
    "### then  calculate (BMI)\n",
    "### at the end print result(\"my name is abd ur rahamna\" and my BMI is \"   \"  )"
   ]
  },
  {
   "cell_type": "code",
   "execution_count": null,
   "id": "4a85de28",
   "metadata": {},
   "outputs": [],
   "source": [
    "weight=input(\"what is your weight in \"  \"kilogram\")\n",
    "weight\n",
    "# type(weight)"
   ]
  },
  {
   "cell_type": "code",
   "execution_count": null,
   "id": "55cbcc18",
   "metadata": {},
   "outputs": [],
   "source": [
    "weight = float(weight)"
   ]
  },
  {
   "cell_type": "code",
   "execution_count": null,
   "id": "1c1deb26",
   "metadata": {},
   "outputs": [],
   "source": [
    "hieght=input(\"what is your hight in  meter\")\n",
    "hieght"
   ]
  },
  {
   "cell_type": "code",
   "execution_count": null,
   "id": "e3dfef08",
   "metadata": {},
   "outputs": [],
   "source": [
    "hieght = float(hieght)"
   ]
  },
  {
   "cell_type": "code",
   "execution_count": null,
   "id": "a6d9c4ea",
   "metadata": {},
   "outputs": [],
   "source": [
    "name=input(\"wahat is ypur name  \")\n",
    "name"
   ]
  },
  {
   "cell_type": "code",
   "execution_count": null,
   "id": "99df843f",
   "metadata": {},
   "outputs": [],
   "source": [
    "BMI=weight/hieght**2\n",
    "BMI"
   ]
  },
  {
   "cell_type": "code",
   "execution_count": null,
   "id": "1030422e",
   "metadata": {
    "scrolled": true
   },
   "outputs": [],
   "source": [
    "print(\"my name is\" ,name , \" my BMI is \",BMI ,\"and i m a healthy boy\")"
   ]
  }
 ],
 "metadata": {
  "kernelspec": {
   "display_name": "Python 3 (ipykernel)",
   "language": "python",
   "name": "python3"
  },
  "language_info": {
   "codemirror_mode": {
    "name": "ipython",
    "version": 3
   },
   "file_extension": ".py",
   "mimetype": "text/x-python",
   "name": "python",
   "nbconvert_exporter": "python",
   "pygments_lexer": "ipython3",
   "version": "3.10.1"
  }
 },
 "nbformat": 4,
 "nbformat_minor": 5
}
