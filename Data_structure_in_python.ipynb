{
 "cells": [
  {
   "cell_type": "markdown",
   "id": "1709c8c4",
   "metadata": {},
   "source": [
    "# Basic data structure in python \n",
    "## There are the four type of data structure\n",
    "### 1- Tuple\n",
    "### 2- List\n",
    "### 3- Dictionaries\n",
    "### 4- Set"
   ]
  },
  {
   "cell_type": "markdown",
   "id": "aa011992",
   "metadata": {},
   "source": [
    "## 01-Tuple\n",
    "### 1-Tuple is collection of element in orderd\n",
    "### 2-They are inclosed by the small brackets (   )\n",
    "### 3-In tuple different kind of element can be stored  \n",
    "### 4-Ones we store an element in the tuple you can not change them \n",
    "## Element\n",
    "### Element may be contain \n",
    "integer,float number,string,boolen(true/false)"
   ]
  },
  {
   "cell_type": "code",
   "execution_count": 50,
   "id": "d3a55d95",
   "metadata": {},
   "outputs": [
    {
     "data": {
      "text/plain": [
       "(15, 'abdur rahman', 50.3, 'ali', 'true')"
      ]
     },
     "execution_count": 50,
     "metadata": {},
     "output_type": "execute_result"
    }
   ],
   "source": [
    "tup1=(15,\"abdur rahman\",50.3,\"ali\",\"true\")\n",
    "tup1"
   ]
  },
  {
   "cell_type": "code",
   "execution_count": 51,
   "id": "caa1c9bf",
   "metadata": {},
   "outputs": [
    {
     "data": {
      "text/plain": [
       "tuple"
      ]
     },
     "execution_count": 51,
     "metadata": {},
     "output_type": "execute_result"
    }
   ],
   "source": [
    "type(tup1)"
   ]
  },
  {
   "cell_type": "markdown",
   "id": "15a1446d",
   "metadata": {},
   "source": [
    "### Index in tuple"
   ]
  },
  {
   "cell_type": "code",
   "execution_count": 52,
   "id": "ae07a424",
   "metadata": {},
   "outputs": [
    {
     "data": {
      "text/plain": [
       "'abdur rahman'"
      ]
     },
     "execution_count": 52,
     "metadata": {},
     "output_type": "execute_result"
    }
   ],
   "source": [
    "tup1[1]"
   ]
  },
  {
   "cell_type": "code",
   "execution_count": 53,
   "id": "59eb470a",
   "metadata": {},
   "outputs": [
    {
     "data": {
      "text/plain": [
       "'true'"
      ]
     },
     "execution_count": 53,
     "metadata": {},
     "output_type": "execute_result"
    }
   ],
   "source": [
    "tup1[4]"
   ]
  },
  {
   "cell_type": "code",
   "execution_count": 54,
   "id": "99d33202",
   "metadata": {},
   "outputs": [
    {
     "data": {
      "text/plain": [
       "(15, 'abdur rahman', 50.3, 'ali', 'true')"
      ]
     },
     "execution_count": 54,
     "metadata": {},
     "output_type": "execute_result"
    }
   ],
   "source": [
    "tup1[0:5]  #last element is exclusive "
   ]
  },
  {
   "cell_type": "code",
   "execution_count": 55,
   "id": "92dcd784",
   "metadata": {},
   "outputs": [
    {
     "data": {
      "text/plain": [
       "5"
      ]
     },
     "execution_count": 55,
     "metadata": {},
     "output_type": "execute_result"
    }
   ],
   "source": [
    "len(tup1)"
   ]
  },
  {
   "cell_type": "code",
   "execution_count": 56,
   "id": "214b5232",
   "metadata": {},
   "outputs": [
    {
     "data": {
      "text/plain": [
       "(15,\n",
       " 'abdur rahman',\n",
       " 50.3,\n",
       " 'ali',\n",
       " 'true',\n",
       " 15,\n",
       " 'abdur rahman',\n",
       " 50.3,\n",
       " 'ali',\n",
       " 'true')"
      ]
     },
     "execution_count": 56,
     "metadata": {},
     "output_type": "execute_result"
    }
   ],
   "source": [
    "tup1*2"
   ]
  },
  {
   "cell_type": "code",
   "execution_count": 57,
   "id": "3a8ebf63",
   "metadata": {},
   "outputs": [
    {
     "data": {
      "text/plain": [
       "(15, 'abdur rahman', 50.3, 'ali', 'true')"
      ]
     },
     "execution_count": 57,
     "metadata": {},
     "output_type": "execute_result"
    }
   ],
   "source": [
    "tup1"
   ]
  },
  {
   "cell_type": "code",
   "execution_count": 58,
   "id": "e7f67cc9",
   "metadata": {},
   "outputs": [
    {
     "data": {
      "text/plain": [
       "(2, 3, 3.5, 'joke')"
      ]
     },
     "execution_count": 58,
     "metadata": {},
     "output_type": "execute_result"
    }
   ],
   "source": [
    "tup2=(2,3,3.5,\"joke\")\n",
    "tup2"
   ]
  },
  {
   "cell_type": "code",
   "execution_count": 59,
   "id": "40f7350c",
   "metadata": {},
   "outputs": [
    {
     "data": {
      "text/plain": [
       "(15, 'abdur rahman', 50.3, 'ali', 'true', 2, 3, 3.5, 'joke')"
      ]
     },
     "execution_count": 59,
     "metadata": {},
     "output_type": "execute_result"
    }
   ],
   "source": [
    "tup1+tup2"
   ]
  },
  {
   "cell_type": "code",
   "execution_count": 60,
   "id": "84eff7e2",
   "metadata": {},
   "outputs": [
    {
     "data": {
      "text/plain": [
       "(15,\n",
       " 'abdur rahman',\n",
       " 50.3,\n",
       " 'ali',\n",
       " 'true',\n",
       " 15,\n",
       " 'abdur rahman',\n",
       " 50.3,\n",
       " 'ali',\n",
       " 'true',\n",
       " 15,\n",
       " 'abdur rahman',\n",
       " 50.3,\n",
       " 'ali',\n",
       " 'true',\n",
       " 2,\n",
       " 3,\n",
       " 3.5,\n",
       " 'joke')"
      ]
     },
     "execution_count": 60,
     "metadata": {},
     "output_type": "execute_result"
    }
   ],
   "source": [
    "tup1*3+ tup2"
   ]
  },
  {
   "cell_type": "code",
   "execution_count": 61,
   "id": "f27d9048",
   "metadata": {},
   "outputs": [
    {
     "data": {
      "text/plain": [
       "(30, 50, 58.9, 95, 30, 50, 45, 21, 12, 96, 54, 57, 35, 29)"
      ]
     },
     "execution_count": 61,
     "metadata": {},
     "output_type": "execute_result"
    }
   ],
   "source": [
    "tup3=(30,50,58.9,95,30,50,45,21,12,96,54,57,35,29)\n",
    "tup3"
   ]
  },
  {
   "cell_type": "code",
   "execution_count": 62,
   "id": "795fd39c",
   "metadata": {},
   "outputs": [
    {
     "data": {
      "text/plain": [
       "12"
      ]
     },
     "execution_count": 62,
     "metadata": {},
     "output_type": "execute_result"
    }
   ],
   "source": [
    "min(tup3)"
   ]
  },
  {
   "cell_type": "code",
   "execution_count": 63,
   "id": "53353848",
   "metadata": {},
   "outputs": [
    {
     "data": {
      "text/plain": [
       "96"
      ]
     },
     "execution_count": 63,
     "metadata": {},
     "output_type": "execute_result"
    }
   ],
   "source": [
    "max(tup3)"
   ]
  },
  {
   "cell_type": "markdown",
   "id": "537307bd",
   "metadata": {},
   "source": [
    "# 02-List\n",
    "### 1-List is collection of element in orderd\n",
    "### 2-Inclosed with square brakets[  ]\n",
    "### 3-You can change the values\n"
   ]
  },
  {
   "cell_type": "code",
   "execution_count": 64,
   "id": "d56604cd",
   "metadata": {},
   "outputs": [
    {
     "data": {
      "text/plain": [
       "[5, 'abd ur rahman', 5.3, 89, 'junk food']"
      ]
     },
     "execution_count": 64,
     "metadata": {},
     "output_type": "execute_result"
    }
   ],
   "source": [
    "l1=[5,\"abd ur rahman\",5.3,89,\"junk food\"]\n",
    "l1"
   ]
  },
  {
   "cell_type": "code",
   "execution_count": 65,
   "id": "898561ec",
   "metadata": {},
   "outputs": [
    {
     "data": {
      "text/plain": [
       "[5,\n",
       " 'abd ur rahman',\n",
       " 5.3,\n",
       " 89,\n",
       " 'junk food',\n",
       " 5,\n",
       " 'abd ur rahman',\n",
       " 5.3,\n",
       " 89,\n",
       " 'junk food']"
      ]
     },
     "execution_count": 65,
     "metadata": {},
     "output_type": "execute_result"
    }
   ],
   "source": [
    "l1+l1"
   ]
  },
  {
   "cell_type": "code",
   "execution_count": 66,
   "id": "add11c2b",
   "metadata": {},
   "outputs": [
    {
     "data": {
      "text/plain": [
       "[5,\n",
       " 'abd ur rahman',\n",
       " 5.3,\n",
       " 89,\n",
       " 'junk food',\n",
       " 5,\n",
       " 'abd ur rahman',\n",
       " 5.3,\n",
       " 89,\n",
       " 'junk food',\n",
       " 5,\n",
       " 'abd ur rahman',\n",
       " 5.3,\n",
       " 89,\n",
       " 'junk food']"
      ]
     },
     "execution_count": 66,
     "metadata": {},
     "output_type": "execute_result"
    }
   ],
   "source": [
    "l1*3"
   ]
  },
  {
   "cell_type": "code",
   "execution_count": 67,
   "id": "942f70e0",
   "metadata": {},
   "outputs": [
    {
     "data": {
      "text/plain": [
       "list"
      ]
     },
     "execution_count": 67,
     "metadata": {},
     "output_type": "execute_result"
    }
   ],
   "source": [
    "type(l1)"
   ]
  },
  {
   "cell_type": "code",
   "execution_count": 68,
   "id": "69addcd9",
   "metadata": {},
   "outputs": [
    {
     "data": {
      "text/plain": [
       "['mango', 'banana', 'suger', 2, 5, 36, 4, 2.3]"
      ]
     },
     "execution_count": 68,
     "metadata": {},
     "output_type": "execute_result"
    }
   ],
   "source": [
    "l2=[\"mango\",\"banana\",\"suger\",2,5,36,4,2.3]\n",
    "l2"
   ]
  },
  {
   "cell_type": "code",
   "execution_count": 69,
   "id": "cea12c1d",
   "metadata": {},
   "outputs": [
    {
     "data": {
      "text/plain": [
       "[5,\n",
       " 'abd ur rahman',\n",
       " 5.3,\n",
       " 89,\n",
       " 'junk food',\n",
       " 'mango',\n",
       " 'banana',\n",
       " 'suger',\n",
       " 2,\n",
       " 5,\n",
       " 36,\n",
       " 4,\n",
       " 2.3]"
      ]
     },
     "execution_count": 69,
     "metadata": {},
     "output_type": "execute_result"
    }
   ],
   "source": [
    "l1+l2"
   ]
  },
  {
   "cell_type": "code",
   "execution_count": 70,
   "id": "d947aed5",
   "metadata": {},
   "outputs": [
    {
     "data": {
      "text/plain": [
       "5"
      ]
     },
     "execution_count": 70,
     "metadata": {},
     "output_type": "execute_result"
    }
   ],
   "source": [
    "len(l1)"
   ]
  },
  {
   "cell_type": "code",
   "execution_count": 71,
   "id": "2a9ea341",
   "metadata": {},
   "outputs": [
    {
     "data": {
      "text/plain": [
       "8"
      ]
     },
     "execution_count": 71,
     "metadata": {},
     "output_type": "execute_result"
    }
   ],
   "source": [
    "len(l2)"
   ]
  },
  {
   "cell_type": "code",
   "execution_count": 72,
   "id": "4ec831f2",
   "metadata": {},
   "outputs": [
    {
     "data": {
      "text/plain": [
       "[5, 'abd ur rahman', 5.3, 89, 'junk food']"
      ]
     },
     "execution_count": 72,
     "metadata": {},
     "output_type": "execute_result"
    }
   ],
   "source": [
    "l1.copy()"
   ]
  },
  {
   "cell_type": "code",
   "execution_count": 73,
   "id": "e457af5f",
   "metadata": {},
   "outputs": [
    {
     "data": {
      "text/plain": [
       "[5, 'abd ur rahman', 5.3, 89, 'junk food']"
      ]
     },
     "execution_count": 73,
     "metadata": {},
     "output_type": "execute_result"
    }
   ],
   "source": [
    "l1"
   ]
  },
  {
   "cell_type": "code",
   "execution_count": 74,
   "id": "3d138ce7",
   "metadata": {},
   "outputs": [],
   "source": [
    "l1.remove(5)"
   ]
  },
  {
   "cell_type": "code",
   "execution_count": 75,
   "id": "1210c3f9",
   "metadata": {},
   "outputs": [
    {
     "data": {
      "text/plain": [
       "['abd ur rahman', 5.3, 89, 'junk food']"
      ]
     },
     "execution_count": 75,
     "metadata": {},
     "output_type": "execute_result"
    }
   ],
   "source": [
    "l1"
   ]
  },
  {
   "cell_type": "code",
   "execution_count": 76,
   "id": "a0ff01b7",
   "metadata": {},
   "outputs": [],
   "source": [
    "l1.insert(89,4.3)"
   ]
  },
  {
   "cell_type": "code",
   "execution_count": 77,
   "id": "80224231",
   "metadata": {},
   "outputs": [
    {
     "data": {
      "text/plain": [
       "['abd ur rahman', 5.3, 89, 'junk food', 4.3]"
      ]
     },
     "execution_count": 77,
     "metadata": {},
     "output_type": "execute_result"
    }
   ],
   "source": [
    "l1"
   ]
  },
  {
   "cell_type": "code",
   "execution_count": 78,
   "id": "64f710ac",
   "metadata": {},
   "outputs": [],
   "source": [
    "l1.reverse()"
   ]
  },
  {
   "cell_type": "code",
   "execution_count": 79,
   "id": "54275dd8",
   "metadata": {},
   "outputs": [
    {
     "data": {
      "text/plain": [
       "[4.3, 'junk food', 89, 5.3, 'abd ur rahman']"
      ]
     },
     "execution_count": 79,
     "metadata": {},
     "output_type": "execute_result"
    }
   ],
   "source": [
    "l1"
   ]
  },
  {
   "cell_type": "code",
   "execution_count": 80,
   "id": "70f76226",
   "metadata": {},
   "outputs": [
    {
     "data": {
      "text/plain": [
       "['mango', 'banana', 'suger', 2, 5, 36, 4, 2.3]"
      ]
     },
     "execution_count": 80,
     "metadata": {},
     "output_type": "execute_result"
    }
   ],
   "source": [
    "l2"
   ]
  },
  {
   "cell_type": "code",
   "execution_count": 81,
   "id": "b65c0b15",
   "metadata": {},
   "outputs": [
    {
     "data": {
      "text/plain": [
       "[32,\n",
       " 56,\n",
       " 87,\n",
       " 65,\n",
       " 36,\n",
       " 94,\n",
       " 65,\n",
       " 2,\n",
       " 33,\n",
       " 56,\n",
       " 9,\n",
       " 87,\n",
       " 5,\n",
       " 21,\n",
       " 66,\n",
       " 23,\n",
       " 12,\n",
       " 21,\n",
       " 31,\n",
       " 21,\n",
       " 45,\n",
       " 69,\n",
       " 5,\n",
       " 2,\n",
       " 2,\n",
       " 2,\n",
       " 2,\n",
       " 10]"
      ]
     },
     "execution_count": 81,
     "metadata": {},
     "output_type": "execute_result"
    }
   ],
   "source": [
    "l3=[32,56,87,65,36,94,65,2,33,56,9,87,5,21,66,23,12,21,31,21,45,69,5,2,2,2,2,10]\n",
    "l3"
   ]
  },
  {
   "cell_type": "code",
   "execution_count": 82,
   "id": "3c173ae4",
   "metadata": {},
   "outputs": [
    {
     "data": {
      "text/plain": [
       "28"
      ]
     },
     "execution_count": 82,
     "metadata": {},
     "output_type": "execute_result"
    }
   ],
   "source": [
    "len(l3)"
   ]
  },
  {
   "cell_type": "code",
   "execution_count": 83,
   "id": "5f9000ee",
   "metadata": {},
   "outputs": [
    {
     "data": {
      "text/plain": [
       "2"
      ]
     },
     "execution_count": 83,
     "metadata": {},
     "output_type": "execute_result"
    }
   ],
   "source": [
    "min(l3)"
   ]
  },
  {
   "cell_type": "code",
   "execution_count": 84,
   "id": "8b154436",
   "metadata": {},
   "outputs": [
    {
     "data": {
      "text/plain": [
       "94"
      ]
     },
     "execution_count": 84,
     "metadata": {},
     "output_type": "execute_result"
    }
   ],
   "source": [
    "max(l3)"
   ]
  },
  {
   "cell_type": "code",
   "execution_count": 85,
   "id": "adf7c9aa",
   "metadata": {},
   "outputs": [],
   "source": [
    "l3.sort()"
   ]
  },
  {
   "cell_type": "code",
   "execution_count": 86,
   "id": "a7ead65d",
   "metadata": {},
   "outputs": [
    {
     "data": {
      "text/plain": [
       "[2,\n",
       " 2,\n",
       " 2,\n",
       " 2,\n",
       " 2,\n",
       " 5,\n",
       " 5,\n",
       " 9,\n",
       " 10,\n",
       " 12,\n",
       " 21,\n",
       " 21,\n",
       " 21,\n",
       " 23,\n",
       " 31,\n",
       " 32,\n",
       " 33,\n",
       " 36,\n",
       " 45,\n",
       " 56,\n",
       " 56,\n",
       " 65,\n",
       " 65,\n",
       " 66,\n",
       " 69,\n",
       " 87,\n",
       " 87,\n",
       " 94]"
      ]
     },
     "execution_count": 86,
     "metadata": {},
     "output_type": "execute_result"
    }
   ],
   "source": [
    "l3"
   ]
  },
  {
   "cell_type": "code",
   "execution_count": 87,
   "id": "53626f66",
   "metadata": {},
   "outputs": [
    {
     "data": {
      "text/plain": [
       "5"
      ]
     },
     "execution_count": 87,
     "metadata": {},
     "output_type": "execute_result"
    }
   ],
   "source": [
    "l3.count(2)  "
   ]
  },
  {
   "cell_type": "markdown",
   "id": "24dbeca3",
   "metadata": {},
   "source": [
    "# 03-dictionaries\n",
    "### 1-An unorderd collection of elements\n",
    "### 2-Key and value are used\n",
    "### 3-{  } are used to define or write any dictionary \n",
    "### 4-We can chager the value any time\n"
   ]
  },
  {
   "cell_type": "code",
   "execution_count": 88,
   "id": "7e437695",
   "metadata": {},
   "outputs": [
    {
     "data": {
      "text/plain": [
       "{'ladyfinger': 30,\n",
       " 'onion': 50,\n",
       " 'tomato': 80,\n",
       " 'patato': 50,\n",
       " 'chilli': 120,\n",
       " 'ginger': 150,\n",
       " 'garlic': 50}"
      ]
     },
     "execution_count": 88,
     "metadata": {},
     "output_type": "execute_result"
    }
   ],
   "source": [
    "kicthen={\"ladyfinger\":30,\"onion\": 50,\"tomato\": 80,\"patato\": 50,\"chilli\": 120,\"ginger\": 150,\"garlic\": 50}\n",
    "kicthen"
   ]
  },
  {
   "cell_type": "code",
   "execution_count": 89,
   "id": "5624e80a",
   "metadata": {},
   "outputs": [
    {
     "data": {
      "text/plain": [
       "dict"
      ]
     },
     "execution_count": 89,
     "metadata": {},
     "output_type": "execute_result"
    }
   ],
   "source": [
    "type(kicthen)"
   ]
  },
  {
   "cell_type": "code",
   "execution_count": 90,
   "id": "c3ab3371",
   "metadata": {},
   "outputs": [],
   "source": [
    "kicthen=kicthen.keys()"
   ]
  },
  {
   "cell_type": "code",
   "execution_count": 91,
   "id": "1b6c174d",
   "metadata": {},
   "outputs": [
    {
     "data": {
      "text/plain": [
       "dict_keys(['ladyfinger', 'onion', 'tomato', 'patato', 'chilli', 'ginger', 'garlic'])"
      ]
     },
     "execution_count": 91,
     "metadata": {},
     "output_type": "execute_result"
    }
   ],
   "source": [
    "kicthen"
   ]
  },
  {
   "cell_type": "code",
   "execution_count": 92,
   "id": "1553713c",
   "metadata": {
    "scrolled": true
   },
   "outputs": [
    {
     "data": {
      "text/plain": [
       "{'ladyfinger': 30,\n",
       " 'onion': 50,\n",
       " 'tomato': 80,\n",
       " 'patato': 50,\n",
       " 'chilli': 120,\n",
       " 'ginger': 150,\n",
       " 'garlic': 50}"
      ]
     },
     "execution_count": 92,
     "metadata": {},
     "output_type": "execute_result"
    }
   ],
   "source": [
    "kicthen={\"ladyfinger\":30,\"onion\": 50,\"tomato\": 80,\"patato\": 50,\"chilli\": 120,\"ginger\": 150,\"garlic\": 50}\n",
    "kicthen"
   ]
  },
  {
   "cell_type": "code",
   "execution_count": 93,
   "id": "e042c233",
   "metadata": {},
   "outputs": [
    {
     "data": {
      "text/plain": [
       "dict_values([30, 50, 80, 50, 120, 150, 50])"
      ]
     },
     "execution_count": 93,
     "metadata": {},
     "output_type": "execute_result"
    }
   ],
   "source": [
    "kicthen.values()"
   ]
  },
  {
   "cell_type": "code",
   "execution_count": 94,
   "id": "6de213cb",
   "metadata": {},
   "outputs": [
    {
     "data": {
      "text/plain": [
       "dict_items([('ladyfinger', 30), ('onion', 50), ('tomato', 80), ('patato', 50), ('chilli', 120), ('ginger', 150), ('garlic', 50)])"
      ]
     },
     "execution_count": 94,
     "metadata": {},
     "output_type": "execute_result"
    }
   ],
   "source": [
    "kicthen.items()"
   ]
  },
  {
   "cell_type": "code",
   "execution_count": 95,
   "id": "d378858c",
   "metadata": {},
   "outputs": [],
   "source": [
    "kicthen.get(5)"
   ]
  },
  {
   "cell_type": "code",
   "execution_count": 96,
   "id": "bb467816",
   "metadata": {},
   "outputs": [
    {
     "data": {
      "text/plain": [
       "('garlic', 50)"
      ]
     },
     "execution_count": 96,
     "metadata": {},
     "output_type": "execute_result"
    }
   ],
   "source": [
    "kicthen.popitem()"
   ]
  },
  {
   "cell_type": "code",
   "execution_count": 97,
   "id": "c618fe8a",
   "metadata": {},
   "outputs": [
    {
     "data": {
      "text/plain": [
       "150"
      ]
     },
     "execution_count": 97,
     "metadata": {},
     "output_type": "execute_result"
    }
   ],
   "source": [
    "kicthen.pop(\"ginger\")"
   ]
  },
  {
   "cell_type": "code",
   "execution_count": 98,
   "id": "2082a97a",
   "metadata": {},
   "outputs": [],
   "source": [
    "kicthen[\"garlic\"]:100"
   ]
  },
  {
   "cell_type": "code",
   "execution_count": 99,
   "id": "f5961a74",
   "metadata": {},
   "outputs": [
    {
     "data": {
      "text/plain": [
       "{'ladyfinger': 30, 'onion': 50, 'tomato': 80, 'patato': 50, 'chilli': 120}"
      ]
     },
     "execution_count": 99,
     "metadata": {},
     "output_type": "execute_result"
    }
   ],
   "source": [
    "kicthen"
   ]
  },
  {
   "cell_type": "code",
   "execution_count": 100,
   "id": "ada77c5f",
   "metadata": {},
   "outputs": [
    {
     "data": {
      "text/plain": [
       "{'towel': 100, 'surf': 150, 'tea': 300}"
      ]
     },
     "execution_count": 100,
     "metadata": {},
     "output_type": "execute_result"
    }
   ],
   "source": [
    "grocery={\"towel\":100,\"surf\":150,\"tea\":300}\n",
    "grocery"
   ]
  },
  {
   "cell_type": "code",
   "execution_count": 101,
   "id": "8dcddb29",
   "metadata": {},
   "outputs": [],
   "source": [
    "kicthen.update(grocery)"
   ]
  },
  {
   "cell_type": "code",
   "execution_count": 102,
   "id": "57e65417",
   "metadata": {},
   "outputs": [
    {
     "data": {
      "text/plain": [
       "{'ladyfinger': 30,\n",
       " 'onion': 50,\n",
       " 'tomato': 80,\n",
       " 'patato': 50,\n",
       " 'chilli': 120,\n",
       " 'towel': 100,\n",
       " 'surf': 150,\n",
       " 'tea': 300}"
      ]
     },
     "execution_count": 102,
     "metadata": {},
     "output_type": "execute_result"
    }
   ],
   "source": [
    "kicthen"
   ]
  },
  {
   "cell_type": "markdown",
   "id": "421a6f74",
   "metadata": {},
   "source": [
    "# 04- Set\n",
    "### 1- Unorder and unindex collection of elements \n",
    "### 2-{ } are use to define are make a set\n",
    "### 3-Duplicate are not allowed \n",
    "### 4-You can not use boolen\n"
   ]
  },
  {
   "cell_type": "code",
   "execution_count": 103,
   "id": "2c1b1973",
   "metadata": {},
   "outputs": [
    {
     "data": {
      "text/plain": [
       "{-6, 0.6, 2.3, 23, 35, 'ali', 'amjad', 'fahad', 'zeshan'}"
      ]
     },
     "execution_count": 103,
     "metadata": {},
     "output_type": "execute_result"
    }
   ],
   "source": [
    "s1={\"ali\",\"amjad\",\"zeshan\",\"fahad\",23,2.3,35,0.6,-6}\n",
    "s1"
   ]
  },
  {
   "cell_type": "code",
   "execution_count": 104,
   "id": "d00ae096",
   "metadata": {},
   "outputs": [],
   "source": [
    "s1.add(\"mango\")"
   ]
  },
  {
   "cell_type": "code",
   "execution_count": 105,
   "id": "b05792cd",
   "metadata": {},
   "outputs": [
    {
     "data": {
      "text/plain": [
       "{-6, 0.6, 2.3, 23, 35, 'ali', 'amjad', 'fahad', 'mango', 'zeshan'}"
      ]
     },
     "execution_count": 105,
     "metadata": {},
     "output_type": "execute_result"
    }
   ],
   "source": [
    "s1"
   ]
  },
  {
   "cell_type": "code",
   "execution_count": 106,
   "id": "6bff04e5",
   "metadata": {},
   "outputs": [],
   "source": [
    "s1.remove(-6)"
   ]
  },
  {
   "cell_type": "code",
   "execution_count": 107,
   "id": "613374be",
   "metadata": {},
   "outputs": [
    {
     "data": {
      "text/plain": [
       "{0.6, 2.3, 23, 35, 'ali', 'amjad', 'fahad', 'mango', 'zeshan'}"
      ]
     },
     "execution_count": 107,
     "metadata": {},
     "output_type": "execute_result"
    }
   ],
   "source": [
    "s1"
   ]
  },
  {
   "cell_type": "code",
   "execution_count": 108,
   "id": "098c2caf",
   "metadata": {},
   "outputs": [
    {
     "data": {
      "text/plain": [
       "{1, 2, 3, 5, 6, 8, 12, 13, 14, 15, 16, 17, 18, 19, 21, 25, 34}"
      ]
     },
     "execution_count": 108,
     "metadata": {},
     "output_type": "execute_result"
    }
   ],
   "source": [
    "s2={3,5,6,8,12,5,15,13,14,18,19,16,12,3,15,14,17,2,1,21,25,15,34}\n",
    "s2\n"
   ]
  },
  {
   "cell_type": "code",
   "execution_count": 109,
   "id": "ff77cee1",
   "metadata": {},
   "outputs": [
    {
     "data": {
      "text/plain": [
       "1"
      ]
     },
     "execution_count": 109,
     "metadata": {},
     "output_type": "execute_result"
    }
   ],
   "source": [
    "min(s2)"
   ]
  },
  {
   "cell_type": "code",
   "execution_count": 110,
   "id": "eacdac5b",
   "metadata": {},
   "outputs": [
    {
     "data": {
      "text/plain": [
       "34"
      ]
     },
     "execution_count": 110,
     "metadata": {},
     "output_type": "execute_result"
    }
   ],
   "source": [
    "max(s2)"
   ]
  },
  {
   "cell_type": "code",
   "execution_count": 111,
   "id": "fdc6b3e4",
   "metadata": {},
   "outputs": [
    {
     "data": {
      "text/plain": [
       "set"
      ]
     },
     "execution_count": 111,
     "metadata": {},
     "output_type": "execute_result"
    }
   ],
   "source": [
    "type(s2)"
   ]
  },
  {
   "cell_type": "code",
   "execution_count": 112,
   "id": "b5b70029",
   "metadata": {},
   "outputs": [],
   "source": [
    "s2.discard(1)"
   ]
  },
  {
   "cell_type": "code",
   "execution_count": 113,
   "id": "bc3038ca",
   "metadata": {},
   "outputs": [
    {
     "data": {
      "text/plain": [
       "{2, 3, 5, 6, 8, 12, 13, 14, 15, 16, 17, 18, 19, 21, 25, 34}"
      ]
     },
     "execution_count": 113,
     "metadata": {},
     "output_type": "execute_result"
    }
   ],
   "source": [
    "s2"
   ]
  },
  {
   "cell_type": "code",
   "execution_count": 114,
   "id": "e6598cbd",
   "metadata": {},
   "outputs": [
    {
     "data": {
      "text/plain": [
       "{2, 3, 5, 6}"
      ]
     },
     "execution_count": 114,
     "metadata": {},
     "output_type": "execute_result"
    }
   ],
   "source": [
    "s3={2,3,5,6}\n",
    "s3"
   ]
  },
  {
   "cell_type": "code",
   "execution_count": 115,
   "id": "924aaf08",
   "metadata": {},
   "outputs": [
    {
     "data": {
      "text/plain": [
       "{2, 3, 5, 6}"
      ]
     },
     "execution_count": 115,
     "metadata": {},
     "output_type": "execute_result"
    }
   ],
   "source": [
    "s2.intersection(s3)"
   ]
  },
  {
   "cell_type": "code",
   "execution_count": 116,
   "id": "a3fc31cf",
   "metadata": {},
   "outputs": [
    {
     "data": {
      "text/plain": [
       "False"
      ]
     },
     "execution_count": 116,
     "metadata": {},
     "output_type": "execute_result"
    }
   ],
   "source": [
    "s2.isdisjoint(s3)"
   ]
  },
  {
   "cell_type": "code",
   "execution_count": 117,
   "id": "f2c09650",
   "metadata": {},
   "outputs": [
    {
     "data": {
      "text/plain": [
       "False"
      ]
     },
     "execution_count": 117,
     "metadata": {},
     "output_type": "execute_result"
    }
   ],
   "source": [
    "s2.issubset(s3)"
   ]
  },
  {
   "cell_type": "code",
   "execution_count": 118,
   "id": "f64daf76",
   "metadata": {},
   "outputs": [
    {
     "data": {
      "text/plain": [
       "True"
      ]
     },
     "execution_count": 118,
     "metadata": {},
     "output_type": "execute_result"
    }
   ],
   "source": [
    "s3.issubset(s2)"
   ]
  },
  {
   "cell_type": "code",
   "execution_count": 119,
   "id": "e3e92fc7",
   "metadata": {},
   "outputs": [
    {
     "data": {
      "text/plain": [
       "True"
      ]
     },
     "execution_count": 119,
     "metadata": {},
     "output_type": "execute_result"
    }
   ],
   "source": [
    "s2.issuperset(s3)"
   ]
  },
  {
   "cell_type": "code",
   "execution_count": 120,
   "id": "be06af8c",
   "metadata": {},
   "outputs": [
    {
     "data": {
      "text/plain": [
       "{2, 3, 5, 6, 8, 12, 13, 14, 15, 16, 17, 18, 19, 21, 25, 34}"
      ]
     },
     "execution_count": 120,
     "metadata": {},
     "output_type": "execute_result"
    }
   ],
   "source": [
    "s2.union(s3)"
   ]
  }
 ],
 "metadata": {
  "kernelspec": {
   "display_name": "Python 3 (ipykernel)",
   "language": "python",
   "name": "python3"
  },
  "language_info": {
   "codemirror_mode": {
    "name": "ipython",
    "version": 3
   },
   "file_extension": ".py",
   "mimetype": "text/x-python",
   "name": "python",
   "nbconvert_exporter": "python",
   "pygments_lexer": "ipython3",
   "version": "3.10.1"
  }
 },
 "nbformat": 4,
 "nbformat_minor": 5
}
