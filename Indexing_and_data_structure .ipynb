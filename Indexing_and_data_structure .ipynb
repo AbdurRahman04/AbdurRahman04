{
 "cells": [
  {
   "cell_type": "markdown",
   "id": "52085ed4",
   "metadata": {},
   "source": [
    "# Indexing\n",
    "## Indexing abd data structure\n",
    "1- Counting in python start from 0 to n\n",
    "\n",
    "0,1,2,3,...,n\n",
    "\n",
    "2- In indexing every string alphabet and space having specific number\n",
    "\n"
   ]
  },
  {
   "cell_type": "code",
   "execution_count": null,
   "id": "5544db97",
   "metadata": {},
   "outputs": [],
   "source": [
    "z= \"abd ur rahman\"\n",
    "z"
   ]
  },
  {
   "cell_type": "code",
   "execution_count": null,
   "id": "ed05b9b1",
   "metadata": {},
   "outputs": [],
   "source": [
    "z[0]\n"
   ]
  },
  {
   "cell_type": "code",
   "execution_count": null,
   "id": "ac21cac5",
   "metadata": {},
   "outputs": [],
   "source": [
    "z[5]\n",
    "\n"
   ]
  },
  {
   "cell_type": "code",
   "execution_count": null,
   "id": "674da101",
   "metadata": {},
   "outputs": [],
   "source": [
    "z[3]"
   ]
  },
  {
   "cell_type": "markdown",
   "id": "50b6ff9c",
   "metadata": {},
   "source": [
    "### For finding the length of any string"
   ]
  },
  {
   "cell_type": "code",
   "execution_count": null,
   "id": "c6dffc58",
   "metadata": {},
   "outputs": [],
   "source": [
    "len(z)"
   ]
  },
  {
   "cell_type": "markdown",
   "id": "6ae1b4c1",
   "metadata": {},
   "source": [
    "### For printing specific string or statement we use ratio sign "
   ]
  },
  {
   "cell_type": "code",
   "execution_count": null,
   "id": "4376ffd2",
   "metadata": {},
   "outputs": [],
   "source": [
    "z[0:13]\n"
   ]
  },
  {
   "cell_type": "code",
   "execution_count": null,
   "id": "ca025fd2",
   "metadata": {},
   "outputs": [],
   "source": [
    "z[0:6]\n"
   ]
  },
  {
   "cell_type": "code",
   "execution_count": null,
   "id": "d8455144",
   "metadata": {},
   "outputs": [],
   "source": [
    "z[-3]"
   ]
  },
  {
   "cell_type": "code",
   "execution_count": null,
   "id": "2216c908",
   "metadata": {},
   "outputs": [],
   "source": [
    "z[-6:13]"
   ]
  },
  {
   "cell_type": "markdown",
   "id": "519b02b2",
   "metadata": {},
   "source": [
    "### String Methods"
   ]
  },
  {
   "cell_type": "code",
   "execution_count": null,
   "id": "f31aace4",
   "metadata": {},
   "outputs": [],
   "source": [
    "comment=\"i love pakistan\"\n",
    "comment"
   ]
  },
  {
   "cell_type": "code",
   "execution_count": null,
   "id": "e304a96d",
   "metadata": {},
   "outputs": [],
   "source": [
    "comment.capitalize()\n"
   ]
  },
  {
   "cell_type": "code",
   "execution_count": null,
   "id": "dcd0dfea",
   "metadata": {},
   "outputs": [],
   "source": [
    "comment.upper()"
   ]
  },
  {
   "cell_type": "code",
   "execution_count": null,
   "id": "8106d92a",
   "metadata": {},
   "outputs": [],
   "source": [
    "comment.lower()\n"
   ]
  },
  {
   "cell_type": "code",
   "execution_count": null,
   "id": "36e37240",
   "metadata": {},
   "outputs": [],
   "source": [
    "comment.count(\"a\")"
   ]
  },
  {
   "cell_type": "code",
   "execution_count": null,
   "id": "0281cfc6",
   "metadata": {},
   "outputs": [],
   "source": [
    "addres=\"i live in a village of chishtian in the lower punjab,bahawalpur,bahawalnagar and pakistan\"\n",
    "addres"
   ]
  },
  {
   "cell_type": "code",
   "execution_count": null,
   "id": "5e222857",
   "metadata": {},
   "outputs": [],
   "source": [
    "addres.count(\"a\")"
   ]
  },
  {
   "cell_type": "code",
   "execution_count": null,
   "id": "33fc7ba1",
   "metadata": {},
   "outputs": [],
   "source": [
    "addres.count(\"t\")"
   ]
  },
  {
   "cell_type": "code",
   "execution_count": null,
   "id": "ed300bee",
   "metadata": {},
   "outputs": [],
   "source": [
    "addres.count(\"e\")\n"
   ]
  },
  {
   "cell_type": "code",
   "execution_count": null,
   "id": "13bc093c",
   "metadata": {},
   "outputs": [],
   "source": [
    "addres.replace(\"chishtian\",\"chack no 9/G\")"
   ]
  },
  {
   "cell_type": "code",
   "execution_count": null,
   "id": "2849d54e",
   "metadata": {},
   "outputs": [],
   "source": [
    "addres.count(\"n\")"
   ]
  },
  {
   "cell_type": "markdown",
   "id": "780f3ed3",
   "metadata": {},
   "source": [
    "### Spliting a string "
   ]
  },
  {
   "cell_type": "code",
   "execution_count": null,
   "id": "305aca9e",
   "metadata": {
    "scrolled": true
   },
   "outputs": [],
   "source": [
    "fvrt_places=\"lahore,bahawalpur,islamabad,karachi,multan,naran khagan,peshawar and gawader in pakistan\"\n",
    "fvrt_places"
   ]
  },
  {
   "cell_type": "code",
   "execution_count": null,
   "id": "af83493d",
   "metadata": {},
   "outputs": [],
   "source": [
    "fvrt_places.split(\",\")"
   ]
  }
 ],
 "metadata": {
  "kernelspec": {
   "display_name": "Python 3 (ipykernel)",
   "language": "python",
   "name": "python3"
  },
  "language_info": {
   "codemirror_mode": {
    "name": "ipython",
    "version": 3
   },
   "file_extension": ".py",
   "mimetype": "text/x-python",
   "name": "python",
   "nbconvert_exporter": "python",
   "pygments_lexer": "ipython3",
   "version": "3.10.1"
  }
 },
 "nbformat": 4,
 "nbformat_minor": 5
}
