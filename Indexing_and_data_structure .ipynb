{
 "cells": [
  {
   "cell_type": "markdown",
   "id": "52085ed4",
   "metadata": {},
   "source": [
    "# Indexing\n",
    "## Indexing abd data structure\n",
    "1- Counting in python start from 0 to n\n",
    "\n",
    "0,1,2,3,...,n\n",
    "\n",
    "2- In indexing every string alphabet and space having specific number\n",
    "\n"
   ]
  },
  {
   "cell_type": "code",
   "execution_count": 1,
   "id": "5544db97",
   "metadata": {},
   "outputs": [
    {
     "data": {
      "text/plain": [
       "'abd ur rahman'"
      ]
     },
     "execution_count": 1,
     "metadata": {},
     "output_type": "execute_result"
    }
   ],
   "source": [
    "z= \"abd ur rahman\"\n",
    "z"
   ]
  },
  {
   "cell_type": "code",
   "execution_count": 2,
   "id": "ed05b9b1",
   "metadata": {},
   "outputs": [
    {
     "data": {
      "text/plain": [
       "'a'"
      ]
     },
     "execution_count": 2,
     "metadata": {},
     "output_type": "execute_result"
    }
   ],
   "source": [
    "z[0]\n"
   ]
  },
  {
   "cell_type": "code",
   "execution_count": 3,
   "id": "ac21cac5",
   "metadata": {},
   "outputs": [
    {
     "data": {
      "text/plain": [
       "'r'"
      ]
     },
     "execution_count": 3,
     "metadata": {},
     "output_type": "execute_result"
    }
   ],
   "source": [
    "z[5]\n",
    "\n"
   ]
  },
  {
   "cell_type": "code",
   "execution_count": 4,
   "id": "674da101",
   "metadata": {},
   "outputs": [
    {
     "data": {
      "text/plain": [
       "' '"
      ]
     },
     "execution_count": 4,
     "metadata": {},
     "output_type": "execute_result"
    }
   ],
   "source": [
    "z[3]"
   ]
  },
  {
   "cell_type": "markdown",
   "id": "50b6ff9c",
   "metadata": {},
   "source": [
    "### For finding the length of any string"
   ]
  },
  {
   "cell_type": "code",
   "execution_count": 5,
   "id": "c6dffc58",
   "metadata": {},
   "outputs": [
    {
     "data": {
      "text/plain": [
       "13"
      ]
     },
     "execution_count": 5,
     "metadata": {},
     "output_type": "execute_result"
    }
   ],
   "source": [
    "len(z)"
   ]
  },
  {
   "cell_type": "markdown",
   "id": "6ae1b4c1",
   "metadata": {},
   "source": [
    "### For printing specific string or statement we use ratio sign "
   ]
  },
  {
   "cell_type": "code",
   "execution_count": 6,
   "id": "4376ffd2",
   "metadata": {},
   "outputs": [
    {
     "data": {
      "text/plain": [
       "'abd ur rahman'"
      ]
     },
     "execution_count": 6,
     "metadata": {},
     "output_type": "execute_result"
    }
   ],
   "source": [
    "z[0:13]\n"
   ]
  },
  {
   "cell_type": "code",
   "execution_count": 7,
   "id": "ca025fd2",
   "metadata": {},
   "outputs": [
    {
     "data": {
      "text/plain": [
       "'abd ur'"
      ]
     },
     "execution_count": 7,
     "metadata": {},
     "output_type": "execute_result"
    }
   ],
   "source": [
    "z[0:6]\n"
   ]
  },
  {
   "cell_type": "code",
   "execution_count": 8,
   "id": "d8455144",
   "metadata": {},
   "outputs": [
    {
     "data": {
      "text/plain": [
       "'m'"
      ]
     },
     "execution_count": 8,
     "metadata": {},
     "output_type": "execute_result"
    }
   ],
   "source": [
    "z[-3]"
   ]
  },
  {
   "cell_type": "code",
   "execution_count": 9,
   "id": "2216c908",
   "metadata": {},
   "outputs": [
    {
     "data": {
      "text/plain": [
       "'rahman'"
      ]
     },
     "execution_count": 9,
     "metadata": {},
     "output_type": "execute_result"
    }
   ],
   "source": [
    "z[-6:13]"
   ]
  },
  {
   "cell_type": "markdown",
   "id": "519b02b2",
   "metadata": {},
   "source": [
    "### String Methods"
   ]
  },
  {
   "cell_type": "code",
   "execution_count": 10,
   "id": "f31aace4",
   "metadata": {},
   "outputs": [
    {
     "data": {
      "text/plain": [
       "'i love pakistan'"
      ]
     },
     "execution_count": 10,
     "metadata": {},
     "output_type": "execute_result"
    }
   ],
   "source": [
    "comment=\"i love pakistan\"\n",
    "comment"
   ]
  },
  {
   "cell_type": "code",
   "execution_count": 11,
   "id": "e304a96d",
   "metadata": {},
   "outputs": [
    {
     "data": {
      "text/plain": [
       "'I love pakistan'"
      ]
     },
     "execution_count": 11,
     "metadata": {},
     "output_type": "execute_result"
    }
   ],
   "source": [
    "comment.capitalize()\n"
   ]
  },
  {
   "cell_type": "code",
   "execution_count": 12,
   "id": "dcd0dfea",
   "metadata": {},
   "outputs": [
    {
     "data": {
      "text/plain": [
       "'I LOVE PAKISTAN'"
      ]
     },
     "execution_count": 12,
     "metadata": {},
     "output_type": "execute_result"
    }
   ],
   "source": [
    "comment.upper()"
   ]
  },
  {
   "cell_type": "code",
   "execution_count": 13,
   "id": "8106d92a",
   "metadata": {},
   "outputs": [
    {
     "data": {
      "text/plain": [
       "'i love pakistan'"
      ]
     },
     "execution_count": 13,
     "metadata": {},
     "output_type": "execute_result"
    }
   ],
   "source": [
    "comment.lower()\n"
   ]
  },
  {
   "cell_type": "code",
   "execution_count": 14,
   "id": "36e37240",
   "metadata": {},
   "outputs": [
    {
     "data": {
      "text/plain": [
       "2"
      ]
     },
     "execution_count": 14,
     "metadata": {},
     "output_type": "execute_result"
    }
   ],
   "source": [
    "comment.count(\"a\")"
   ]
  },
  {
   "cell_type": "code",
   "execution_count": 15,
   "id": "0281cfc6",
   "metadata": {},
   "outputs": [
    {
     "data": {
      "text/plain": [
       "'i live in a village of chishtian in the lower punjab,bahawalpur,bahawalnagar and pakistan'"
      ]
     },
     "execution_count": 15,
     "metadata": {},
     "output_type": "execute_result"
    }
   ],
   "source": [
    "addres=\"i live in a village of chishtian in the lower punjab,bahawalpur,bahawalnagar and pakistan\"\n",
    "addres"
   ]
  },
  {
   "cell_type": "code",
   "execution_count": 16,
   "id": "5e222857",
   "metadata": {},
   "outputs": [
    {
     "data": {
      "text/plain": [
       "15"
      ]
     },
     "execution_count": 16,
     "metadata": {},
     "output_type": "execute_result"
    }
   ],
   "source": [
    "addres.count(\"a\")"
   ]
  },
  {
   "cell_type": "code",
   "execution_count": 17,
   "id": "33fc7ba1",
   "metadata": {},
   "outputs": [
    {
     "data": {
      "text/plain": [
       "3"
      ]
     },
     "execution_count": 17,
     "metadata": {},
     "output_type": "execute_result"
    }
   ],
   "source": [
    "addres.count(\"t\")"
   ]
  },
  {
   "cell_type": "code",
   "execution_count": 18,
   "id": "ed300bee",
   "metadata": {},
   "outputs": [
    {
     "data": {
      "text/plain": [
       "4"
      ]
     },
     "execution_count": 18,
     "metadata": {},
     "output_type": "execute_result"
    }
   ],
   "source": [
    "addres.count(\"e\")\n"
   ]
  },
  {
   "cell_type": "code",
   "execution_count": 19,
   "id": "13bc093c",
   "metadata": {},
   "outputs": [
    {
     "data": {
      "text/plain": [
       "'i live in a village of chack no 9/G in the lower punjab,bahawalpur,bahawalnagar and pakistan'"
      ]
     },
     "execution_count": 19,
     "metadata": {},
     "output_type": "execute_result"
    }
   ],
   "source": [
    "addres.replace(\"chishtian\",\"chack no 9/G\")"
   ]
  },
  {
   "cell_type": "code",
   "execution_count": 20,
   "id": "2849d54e",
   "metadata": {},
   "outputs": [
    {
     "data": {
      "text/plain": [
       "7"
      ]
     },
     "execution_count": 20,
     "metadata": {},
     "output_type": "execute_result"
    }
   ],
   "source": [
    "addres.count(\"n\")"
   ]
  },
  {
   "cell_type": "markdown",
   "id": "780f3ed3",
   "metadata": {},
   "source": [
    "### Spliting a string "
   ]
  },
  {
   "cell_type": "code",
   "execution_count": 21,
   "id": "305aca9e",
   "metadata": {
    "scrolled": true
   },
   "outputs": [
    {
     "data": {
      "text/plain": [
       "'lahore,bahawalpur,islamabad,karachi,multan,naran khagan,peshawar and gawader in pakistan'"
      ]
     },
     "execution_count": 21,
     "metadata": {},
     "output_type": "execute_result"
    }
   ],
   "source": [
    "fvrt_places=\"lahore,bahawalpur,islamabad,karachi,multan,naran khagan,peshawar and gawader in pakistan\"\n",
    "fvrt_places"
   ]
  },
  {
   "cell_type": "code",
   "execution_count": 22,
   "id": "af83493d",
   "metadata": {},
   "outputs": [
    {
     "data": {
      "text/plain": [
       "['lahore',\n",
       " 'bahawalpur',\n",
       " 'islamabad',\n",
       " 'karachi',\n",
       " 'multan',\n",
       " 'naran khagan',\n",
       " 'peshawar and gawader in pakistan']"
      ]
     },
     "execution_count": 22,
     "metadata": {},
     "output_type": "execute_result"
    }
   ],
   "source": [
    "fvrt_places.split(\",\")"
   ]
  }
 ],
 "metadata": {
  "kernelspec": {
   "display_name": "Python 3 (ipykernel)",
   "language": "python",
   "name": "python3"
  },
  "language_info": {
   "codemirror_mode": {
    "name": "ipython",
    "version": 3
   },
   "file_extension": ".py",
   "mimetype": "text/x-python",
   "name": "python",
   "nbconvert_exporter": "python",
   "pygments_lexer": "ipython3",
   "version": "3.10.1"
  }
 },
 "nbformat": 4,
 "nbformat_minor": 5
}
